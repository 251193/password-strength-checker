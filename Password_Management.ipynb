{
  "nbformat": 4,
  "nbformat_minor": 0,
  "metadata": {
    "colab": {
      "provenance": [],
      "authorship_tag": "ABX9TyNpQ9UKrp5Mi/omdGDyyZ22",
      "include_colab_link": true
    },
    "kernelspec": {
      "name": "python3",
      "display_name": "Python 3"
    },
    "language_info": {
      "name": "python"
    }
  },
  "cells": [
    {
      "cell_type": "markdown",
      "metadata": {
        "id": "view-in-github",
        "colab_type": "text"
      },
      "source": [
        "<a href=\"https://colab.research.google.com/github/251193/password-strength-checker/blob/main/Password_Management.ipynb\" target=\"_parent\"><img src=\"https://colab.research.google.com/assets/colab-badge.svg\" alt=\"Open In Colab\"/></a>"
      ]
    },
    {
      "cell_type": "code",
      "execution_count": null,
      "metadata": {
        "id": "nCOWB-1dI1zL"
      },
      "outputs": [],
      "source": [
        "import re\n"
      ]
    },
    {
      "cell_type": "code",
      "source": [
        "def check_password_strength(password):\n",
        "    # Rule 1: Length check (at least 8 characters)\n",
        "    if len(password) < 8:\n",
        "        return \"Weak: Password must be at least 8 characters long.\"\n",
        "\n",
        "    # Rule 2: Check for at least one uppercase letter, one lowercase letter, one number, and one special character\n",
        "    if not re.search(r'[A-Z]', password):  # Uppercase letter check\n",
        "        return \"Weak: Password must contain at least one uppercase letter.\"\n",
        "    if not re.search(r'[a-z]', password):  # Lowercase letter check\n",
        "        return \"Weak: Password must contain at least one lowercase letter.\"\n",
        "    if not re.search(r'[0-9]', password):  # Digit check\n",
        "        return \"Weak: Password must contain at least one digit.\"\n",
        "    if not re.search(r'[\\W_]', password):  # Special character check (non-word characters)\n",
        "        return \"Weak: Password must contain at least one special character (e.g., !, @, #).\"\n",
        "\n",
        "    # Rule 3: Check if the password is too simple (a common password check)\n",
        "    common_passwords = [\"password\", \"123456\", \"qwerty\", \"letmein\", \"welcome\"]  # A list of common passwords\n",
        "    if password.lower() in common_passwords:\n",
        "        return \"Weak: Password is too common and easy to guess.\"\n",
        "\n",
        "    # Rule 4: Check password entropy (a simple measure of randomness)\n",
        "    if re.search(r'(.)\\1{2,}', password):  # Detecting repeating characters\n",
        "        return \"Weak: Password contains too many repeating characters.\"\n",
        "\n",
        "    return \"Strong: Your password is strong!\"\n"
      ],
      "metadata": {
        "id": "In3wcgk2LIEb"
      },
      "execution_count": null,
      "outputs": []
    },
    {
      "cell_type": "code",
      "source": [
        "# Example usage\n",
        "password = input(\"Enter your password: \")\n",
        "print(check_password_strength(password))\n"
      ],
      "metadata": {
        "colab": {
          "base_uri": "https://localhost:8080/"
        },
        "id": "-iP8nN4uLNWL",
        "outputId": "a78e96ce-13e5-436c-eea7-519a80799950"
      },
      "execution_count": null,
      "outputs": [
        {
          "output_type": "stream",
          "name": "stdout",
          "text": [
            "Enter your password: zALAK@2511\n",
            "Strong: Your password is strong!\n"
          ]
        }
      ]
    }
  ]
}